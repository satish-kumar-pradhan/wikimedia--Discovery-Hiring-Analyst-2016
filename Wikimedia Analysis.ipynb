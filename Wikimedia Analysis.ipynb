{
 "cells": [
  {
   "cell_type": "code",
   "execution_count": 1,
   "metadata": {},
   "outputs": [],
   "source": [
    "import pandas as pd\n",
    "import datetime\n",
    "import time\n",
    "import numpy as np\n",
    "import matplotlib.pyplot as plt\n",
    "import seaborn as sns\n",
    "%matplotlib inline"
   ]
  },
  {
   "cell_type": "markdown",
   "metadata": {},
   "source": [
    "Importing needed libraries for this project."
   ]
  },
  {
   "cell_type": "code",
   "execution_count": 2,
   "metadata": {},
   "outputs": [],
   "source": [
    "def jez(x):\n",
    "    if (x[-1]==0 and x[0]==1):\n",
    "        return (True)\n",
    "    else:\n",
    "        return (False)"
   ]
  },
  {
   "cell_type": "markdown",
   "metadata": {},
   "source": [
    "Defining function to check for change in values"
   ]
  },
  {
   "cell_type": "code",
   "execution_count": 3,
   "metadata": {},
   "outputs": [],
   "source": [
    "def change(x):\n",
    "    if x=='visitPage':\n",
    "        z=int(1)\n",
    "    else:\n",
    "        z=int(0)\n",
    "    return(z)"
   ]
  },
  {
   "cell_type": "markdown",
   "metadata": {},
   "source": [
    "Defining function to check for change in values"
   ]
  },
  {
   "cell_type": "code",
   "execution_count": 4,
   "metadata": {},
   "outputs": [],
   "source": [
    "dtset=pd.read_csv('events_log.csv')"
   ]
  },
  {
   "cell_type": "markdown",
   "metadata": {},
   "source": [
    "Reading the data."
   ]
  },
  {
   "cell_type": "code",
   "execution_count": 5,
   "metadata": {},
   "outputs": [
    {
     "name": "stdout",
     "output_type": "stream",
     "text": [
      "<class 'pandas.core.frame.DataFrame'>\n",
      "RangeIndex: 400165 entries, 0 to 400164\n",
      "Data columns (total 9 columns):\n",
      " #   Column           Non-Null Count   Dtype  \n",
      "---  ------           --------------   -----  \n",
      " 0   uuid             400165 non-null  object \n",
      " 1   timestamp        400165 non-null  float64\n",
      " 2   session_id       400165 non-null  object \n",
      " 3   group            400165 non-null  object \n",
      " 4   action           400165 non-null  object \n",
      " 5   checkin          223824 non-null  float64\n",
      " 6   page_id          400165 non-null  object \n",
      " 7   n_results        136234 non-null  float64\n",
      " 8   result_position  230482 non-null  float64\n",
      "dtypes: float64(4), object(5)\n",
      "memory usage: 27.5+ MB\n"
     ]
    }
   ],
   "source": [
    "dtset.info()"
   ]
  },
  {
   "cell_type": "code",
   "execution_count": 6,
   "metadata": {},
   "outputs": [
    {
     "data": {
      "text/html": [
       "<div>\n",
       "<style scoped>\n",
       "    .dataframe tbody tr th:only-of-type {\n",
       "        vertical-align: middle;\n",
       "    }\n",
       "\n",
       "    .dataframe tbody tr th {\n",
       "        vertical-align: top;\n",
       "    }\n",
       "\n",
       "    .dataframe thead th {\n",
       "        text-align: right;\n",
       "    }\n",
       "</style>\n",
       "<table border=\"1\" class=\"dataframe\">\n",
       "  <thead>\n",
       "    <tr style=\"text-align: right;\">\n",
       "      <th></th>\n",
       "      <th>uuid</th>\n",
       "      <th>timestamp</th>\n",
       "      <th>session_id</th>\n",
       "      <th>group</th>\n",
       "      <th>action</th>\n",
       "      <th>checkin</th>\n",
       "      <th>page_id</th>\n",
       "      <th>n_results</th>\n",
       "      <th>result_position</th>\n",
       "    </tr>\n",
       "  </thead>\n",
       "  <tbody>\n",
       "    <tr>\n",
       "      <th>0</th>\n",
       "      <td>00000736167c507e8ec225bd9e71f9e5</td>\n",
       "      <td>2.016030e+13</td>\n",
       "      <td>78245c2c3fba013a</td>\n",
       "      <td>b</td>\n",
       "      <td>searchResultPage</td>\n",
       "      <td>NaN</td>\n",
       "      <td>cbeb66d1bc1f1bc2</td>\n",
       "      <td>5.0</td>\n",
       "      <td>NaN</td>\n",
       "    </tr>\n",
       "    <tr>\n",
       "      <th>1</th>\n",
       "      <td>00000c69fe345268935463abbfa5d5b3</td>\n",
       "      <td>2.016031e+13</td>\n",
       "      <td>c559c3be98dca8a4</td>\n",
       "      <td>a</td>\n",
       "      <td>searchResultPage</td>\n",
       "      <td>NaN</td>\n",
       "      <td>eb658e8722aad674</td>\n",
       "      <td>10.0</td>\n",
       "      <td>NaN</td>\n",
       "    </tr>\n",
       "    <tr>\n",
       "      <th>2</th>\n",
       "      <td>00003bfdab715ee59077a3670331b787</td>\n",
       "      <td>2.016030e+13</td>\n",
       "      <td>760bf89817ce4b08</td>\n",
       "      <td>a</td>\n",
       "      <td>checkin</td>\n",
       "      <td>30.0</td>\n",
       "      <td>f99a9fc1f7fdd21e</td>\n",
       "      <td>NaN</td>\n",
       "      <td>NaN</td>\n",
       "    </tr>\n",
       "    <tr>\n",
       "      <th>3</th>\n",
       "      <td>0000465cd7c35ad2bdeafec953e08c1a</td>\n",
       "      <td>2.016030e+13</td>\n",
       "      <td>fb905603d31b2071</td>\n",
       "      <td>a</td>\n",
       "      <td>checkin</td>\n",
       "      <td>60.0</td>\n",
       "      <td>e5626962a6939a75</td>\n",
       "      <td>NaN</td>\n",
       "      <td>10.0</td>\n",
       "    </tr>\n",
       "    <tr>\n",
       "      <th>4</th>\n",
       "      <td>000050cbb4ef5b42b16c4d2cf69e6358</td>\n",
       "      <td>2.016030e+13</td>\n",
       "      <td>c2bf5e5172a892dc</td>\n",
       "      <td>a</td>\n",
       "      <td>checkin</td>\n",
       "      <td>30.0</td>\n",
       "      <td>787dd6a4c371cbf9</td>\n",
       "      <td>NaN</td>\n",
       "      <td>NaN</td>\n",
       "    </tr>\n",
       "  </tbody>\n",
       "</table>\n",
       "</div>"
      ],
      "text/plain": [
       "                               uuid     timestamp        session_id group  \\\n",
       "0  00000736167c507e8ec225bd9e71f9e5  2.016030e+13  78245c2c3fba013a     b   \n",
       "1  00000c69fe345268935463abbfa5d5b3  2.016031e+13  c559c3be98dca8a4     a   \n",
       "2  00003bfdab715ee59077a3670331b787  2.016030e+13  760bf89817ce4b08     a   \n",
       "3  0000465cd7c35ad2bdeafec953e08c1a  2.016030e+13  fb905603d31b2071     a   \n",
       "4  000050cbb4ef5b42b16c4d2cf69e6358  2.016030e+13  c2bf5e5172a892dc     a   \n",
       "\n",
       "             action  checkin           page_id  n_results  result_position  \n",
       "0  searchResultPage      NaN  cbeb66d1bc1f1bc2        5.0              NaN  \n",
       "1  searchResultPage      NaN  eb658e8722aad674       10.0              NaN  \n",
       "2           checkin     30.0  f99a9fc1f7fdd21e        NaN              NaN  \n",
       "3           checkin     60.0  e5626962a6939a75        NaN             10.0  \n",
       "4           checkin     30.0  787dd6a4c371cbf9        NaN              NaN  "
      ]
     },
     "execution_count": 6,
     "metadata": {},
     "output_type": "execute_result"
    }
   ],
   "source": [
    "dtset.head()"
   ]
  },
  {
   "cell_type": "code",
   "execution_count": 7,
   "metadata": {},
   "outputs": [
    {
     "data": {
      "text/html": [
       "<div>\n",
       "<style scoped>\n",
       "    .dataframe tbody tr th:only-of-type {\n",
       "        vertical-align: middle;\n",
       "    }\n",
       "\n",
       "    .dataframe tbody tr th {\n",
       "        vertical-align: top;\n",
       "    }\n",
       "\n",
       "    .dataframe thead th {\n",
       "        text-align: right;\n",
       "    }\n",
       "</style>\n",
       "<table border=\"1\" class=\"dataframe\">\n",
       "  <thead>\n",
       "    <tr style=\"text-align: right;\">\n",
       "      <th></th>\n",
       "      <th>timestamp</th>\n",
       "      <th>checkin</th>\n",
       "      <th>n_results</th>\n",
       "      <th>result_position</th>\n",
       "    </tr>\n",
       "  </thead>\n",
       "  <tbody>\n",
       "    <tr>\n",
       "      <th>count</th>\n",
       "      <td>4.001650e+05</td>\n",
       "      <td>223824.000000</td>\n",
       "      <td>136234.000000</td>\n",
       "      <td>230482.000000</td>\n",
       "    </tr>\n",
       "    <tr>\n",
       "      <th>mean</th>\n",
       "      <td>2.016030e+13</td>\n",
       "      <td>97.190382</td>\n",
       "      <td>13.210109</td>\n",
       "      <td>2.992798</td>\n",
       "    </tr>\n",
       "    <tr>\n",
       "      <th>std</th>\n",
       "      <td>2.340996e+06</td>\n",
       "      <td>104.593714</td>\n",
       "      <td>13.271104</td>\n",
       "      <td>38.557292</td>\n",
       "    </tr>\n",
       "    <tr>\n",
       "      <th>min</th>\n",
       "      <td>2.016030e+13</td>\n",
       "      <td>10.000000</td>\n",
       "      <td>0.000000</td>\n",
       "      <td>1.000000</td>\n",
       "    </tr>\n",
       "    <tr>\n",
       "      <th>25%</th>\n",
       "      <td>2.016030e+13</td>\n",
       "      <td>20.000000</td>\n",
       "      <td>2.000000</td>\n",
       "      <td>1.000000</td>\n",
       "    </tr>\n",
       "    <tr>\n",
       "      <th>50%</th>\n",
       "      <td>2.016030e+13</td>\n",
       "      <td>50.000000</td>\n",
       "      <td>20.000000</td>\n",
       "      <td>1.000000</td>\n",
       "    </tr>\n",
       "    <tr>\n",
       "      <th>75%</th>\n",
       "      <td>2.016031e+13</td>\n",
       "      <td>150.000000</td>\n",
       "      <td>20.000000</td>\n",
       "      <td>2.000000</td>\n",
       "    </tr>\n",
       "    <tr>\n",
       "      <th>max</th>\n",
       "      <td>2.016031e+13</td>\n",
       "      <td>420.000000</td>\n",
       "      <td>500.000000</td>\n",
       "      <td>4103.000000</td>\n",
       "    </tr>\n",
       "  </tbody>\n",
       "</table>\n",
       "</div>"
      ],
      "text/plain": [
       "          timestamp        checkin      n_results  result_position\n",
       "count  4.001650e+05  223824.000000  136234.000000    230482.000000\n",
       "mean   2.016030e+13      97.190382      13.210109         2.992798\n",
       "std    2.340996e+06     104.593714      13.271104        38.557292\n",
       "min    2.016030e+13      10.000000       0.000000         1.000000\n",
       "25%    2.016030e+13      20.000000       2.000000         1.000000\n",
       "50%    2.016030e+13      50.000000      20.000000         1.000000\n",
       "75%    2.016031e+13     150.000000      20.000000         2.000000\n",
       "max    2.016031e+13     420.000000     500.000000      4103.000000"
      ]
     },
     "execution_count": 7,
     "metadata": {},
     "output_type": "execute_result"
    }
   ],
   "source": [
    "dtset.describe()"
   ]
  },
  {
   "cell_type": "code",
   "execution_count": 8,
   "metadata": {},
   "outputs": [
    {
     "data": {
      "text/plain": [
       "uuid                    0\n",
       "timestamp               0\n",
       "session_id              0\n",
       "group                   0\n",
       "action                  0\n",
       "checkin            176341\n",
       "page_id                 0\n",
       "n_results          263931\n",
       "result_position    169683\n",
       "dtype: int64"
      ]
     },
     "execution_count": 8,
     "metadata": {},
     "output_type": "execute_result"
    }
   ],
   "source": [
    "dtset.isna().sum()"
   ]
  },
  {
   "cell_type": "markdown",
   "metadata": {},
   "source": [
    "The dataset seems to be clean with 3 features having Na values. Less us see the data given in problem statement and try to understand the dataset.\n"
   ]
  },
  {
   "cell_type": "markdown",
   "metadata": {},
   "source": [
    "## Data\n",
    "\n",
    "The dataset comes from a [tracking schema](https://meta.wikimedia.org/wiki/Schema:TestSearchSatisfaction2) that we use for assessing user satisfaction. Desktop users are randomly sampled to be anonymously tracked by this schema which uses a \"I'm alive\" pinging system that we can use to estimate how long our users stay on the pages they visit. The dataset contains just a little more than a week of EL data.\n",
    "\n",
    "| Column          | Value   | Description                                                                       |\n",
    "|:----------------|:--------|:----------------------------------------------------------------------------------|\n",
    "| uuid            | string  | Universally unique identifier (UUID) for backend event handling.                  |\n",
    "| timestamp       | integer | The date and time (UTC) of the event, formatted as YYYYMMDDhhmmss.                |\n",
    "| session_id      | string  | A unique ID identifying individual sessions.                                      |\n",
    "| group           | string  | A label (\"a\" or \"b\").                                     |\n",
    "| action          | string  | Identifies in which the event was created. See below.                             |\n",
    "| checkin         | integer | How many seconds the page has been open for.                                      |\n",
    "| page_id         | string  | A unique identifier for correlating page visits and check-ins.                    |\n",
    "| n_results       | integer | Number of hits returned to the user. Only shown for searchResultPage events.      |\n",
    "| result_position | integer | The position of the visited page's link on the search engine results page (SERP). |\n",
    "\n",
    "The following are possible values for an event's action field:\n",
    "\n",
    "- **searchResultPage**: when a new search is performed and the user is shown a SERP.\n",
    "- **visitPage**: when the user clicks a link in the results.\n",
    "- **checkin**: when the user has remained on the page for a pre-specified amount of time.\n",
    "\n",
    "### Example Session\n",
    "\n",
    "|uuid                             |      timestamp|session_id       |group |action           | checkin|page_id          | n_results| result_position|\n",
    "|:--------------------------------|:--------------|:----------------|:-----|:----------------|-------:|:----------------|---------:|---------------:|\n",
    "|4f699f344515554a9371fe4ecb5b9ebc | 20160305195246|001e61b5477f5efc |b     |searchResultPage |      NA|1b341d0ab80eb77e |         7|              NA|\n",
    "|759d1dc9966353c2a36846a61125f286 | 20160305195302|001e61b5477f5efc |b     |visitPage        |      NA|5a6a1f75124cbf03 |        NA|               1|\n",
    "|77efd5a00a5053c4a713fbe5a48dbac4 | 20160305195312|001e61b5477f5efc |b     |checkin          |      10|5a6a1f75124cbf03 |        NA|               1|\n",
    "|42420284ad895ec4bcb1f000b949dd5e | 20160305195322|001e61b5477f5efc |b     |checkin          |      20|5a6a1f75124cbf03 |        NA|               1|\n",
    "|8ffd82c27a355a56882b5860993bd308 | 20160305195332|001e61b5477f5efc |b     |checkin          |      30|5a6a1f75124cbf03 |        NA|               1|\n",
    "|2988d11968b25b29add3a851bec2fe02 | 20160305195342|001e61b5477f5efc |b     |checkin          |      40|5a6a1f75124cbf03 |        NA|               1|\n",
    "\n",
    "This user's search query returned 7 results, they clicked on the first result, and stayed on the page between 40 and 50 seconds. (The next check-in would have happened at 50s.)"
   ]
  },
  {
   "cell_type": "markdown",
   "metadata": {},
   "source": [
    "It appears SRP the action is set to searchResultPage and the no of result is shown. Checkin and result position are set to NA.\n",
    "If the user clicks a page then the action is set to visitPage and the page visited is shown in result_position.\n",
    "checkin action is the status scheck for how long a user stayed on a page. For visitpage and checkin the n_results stays NA. \n"
   ]
  },
  {
   "cell_type": "markdown",
   "metadata": {},
   "source": [
    "# What is our daily overall clickthrough rate?\n",
    "We need to convert the timestamp that is integer to datetime and extract date to section the date into datewise groups. Sorting by timestamp to get a better understanding of data."
   ]
  },
  {
   "cell_type": "code",
   "execution_count": 9,
   "metadata": {},
   "outputs": [],
   "source": [
    "dtset=pd.read_csv('events_log.csv')\n",
    "dtset['date'] = pd.to_datetime(dtset['timestamp'], format='%Y%m%d%H%M%S').dt.date\n",
    "dtset['time'] = pd.to_datetime(dtset['timestamp'], format='%Y%m%d%H%M%S').dt.time\n",
    "\n",
    "dtset=dtset.sort_values('timestamp')"
   ]
  },
  {
   "cell_type": "code",
   "execution_count": 10,
   "metadata": {},
   "outputs": [
    {
     "data": {
      "text/html": [
       "<div>\n",
       "<style scoped>\n",
       "    .dataframe tbody tr th:only-of-type {\n",
       "        vertical-align: middle;\n",
       "    }\n",
       "\n",
       "    .dataframe tbody tr th {\n",
       "        vertical-align: top;\n",
       "    }\n",
       "\n",
       "    .dataframe thead th {\n",
       "        text-align: right;\n",
       "    }\n",
       "</style>\n",
       "<table border=\"1\" class=\"dataframe\">\n",
       "  <thead>\n",
       "    <tr style=\"text-align: right;\">\n",
       "      <th></th>\n",
       "      <th>uuid</th>\n",
       "      <th>timestamp</th>\n",
       "      <th>session_id</th>\n",
       "      <th>group</th>\n",
       "      <th>action</th>\n",
       "      <th>checkin</th>\n",
       "      <th>page_id</th>\n",
       "      <th>n_results</th>\n",
       "      <th>result_position</th>\n",
       "      <th>date</th>\n",
       "      <th>time</th>\n",
       "    </tr>\n",
       "  </thead>\n",
       "  <tbody>\n",
       "    <tr>\n",
       "      <th>336011</th>\n",
       "      <td>d6b87ce39b195ca0a5adecc48aaa6276</td>\n",
       "      <td>2.016030e+13</td>\n",
       "      <td>cbba9a98ba7b20cc</td>\n",
       "      <td>a</td>\n",
       "      <td>checkin</td>\n",
       "      <td>60.0</td>\n",
       "      <td>f79f531304a265f8</td>\n",
       "      <td>NaN</td>\n",
       "      <td>4.0</td>\n",
       "      <td>2016-03-01</td>\n",
       "      <td>00:00:01</td>\n",
       "    </tr>\n",
       "    <tr>\n",
       "      <th>88336</th>\n",
       "      <td>38ae77f3e7145186b2f8631c578e39db</td>\n",
       "      <td>2.016030e+13</td>\n",
       "      <td>cbba9a98ba7b20cc</td>\n",
       "      <td>a</td>\n",
       "      <td>searchResultPage</td>\n",
       "      <td>NaN</td>\n",
       "      <td>1376f8a941d1ce98</td>\n",
       "      <td>20.0</td>\n",
       "      <td>NaN</td>\n",
       "      <td>2016-03-01</td>\n",
       "      <td>00:00:02</td>\n",
       "    </tr>\n",
       "    <tr>\n",
       "      <th>236956</th>\n",
       "      <td>976a1ff3925a516aba858b8ad20cb9f9</td>\n",
       "      <td>2.016030e+13</td>\n",
       "      <td>c1f0f8499c6655cd</td>\n",
       "      <td>b</td>\n",
       "      <td>checkin</td>\n",
       "      <td>20.0</td>\n",
       "      <td>88bebe600b777ea9</td>\n",
       "      <td>NaN</td>\n",
       "      <td>NaN</td>\n",
       "      <td>2016-03-01</td>\n",
       "      <td>00:00:02</td>\n",
       "    </tr>\n",
       "    <tr>\n",
       "      <th>72364</th>\n",
       "      <td>2e71e942d17f5999a0e33d2b66b88520</td>\n",
       "      <td>2.016030e+13</td>\n",
       "      <td>614eaa17120fe46b</td>\n",
       "      <td>b</td>\n",
       "      <td>checkin</td>\n",
       "      <td>40.0</td>\n",
       "      <td>756d326815bc60c9</td>\n",
       "      <td>NaN</td>\n",
       "      <td>1.0</td>\n",
       "      <td>2016-03-01</td>\n",
       "      <td>00:00:02</td>\n",
       "    </tr>\n",
       "    <tr>\n",
       "      <th>80189</th>\n",
       "      <td>3373b4f03236565e8e36c35388831c8a</td>\n",
       "      <td>2.016030e+13</td>\n",
       "      <td>32edcb654a1dee57</td>\n",
       "      <td>b</td>\n",
       "      <td>checkin</td>\n",
       "      <td>150.0</td>\n",
       "      <td>d6122cfa99f1809f</td>\n",
       "      <td>NaN</td>\n",
       "      <td>1.0</td>\n",
       "      <td>2016-03-01</td>\n",
       "      <td>00:00:05</td>\n",
       "    </tr>\n",
       "  </tbody>\n",
       "</table>\n",
       "</div>"
      ],
      "text/plain": [
       "                                    uuid     timestamp        session_id  \\\n",
       "336011  d6b87ce39b195ca0a5adecc48aaa6276  2.016030e+13  cbba9a98ba7b20cc   \n",
       "88336   38ae77f3e7145186b2f8631c578e39db  2.016030e+13  cbba9a98ba7b20cc   \n",
       "236956  976a1ff3925a516aba858b8ad20cb9f9  2.016030e+13  c1f0f8499c6655cd   \n",
       "72364   2e71e942d17f5999a0e33d2b66b88520  2.016030e+13  614eaa17120fe46b   \n",
       "80189   3373b4f03236565e8e36c35388831c8a  2.016030e+13  32edcb654a1dee57   \n",
       "\n",
       "       group            action  checkin           page_id  n_results  \\\n",
       "336011     a           checkin     60.0  f79f531304a265f8        NaN   \n",
       "88336      a  searchResultPage      NaN  1376f8a941d1ce98       20.0   \n",
       "236956     b           checkin     20.0  88bebe600b777ea9        NaN   \n",
       "72364      b           checkin     40.0  756d326815bc60c9        NaN   \n",
       "80189      b           checkin    150.0  d6122cfa99f1809f        NaN   \n",
       "\n",
       "        result_position        date      time  \n",
       "336011              4.0  2016-03-01  00:00:01  \n",
       "88336               NaN  2016-03-01  00:00:02  \n",
       "236956              NaN  2016-03-01  00:00:02  \n",
       "72364               1.0  2016-03-01  00:00:02  \n",
       "80189               1.0  2016-03-01  00:00:05  "
      ]
     },
     "execution_count": 10,
     "metadata": {},
     "output_type": "execute_result"
    }
   ],
   "source": [
    "dtset.head(5)"
   ]
  },
  {
   "cell_type": "code",
   "execution_count": null,
   "metadata": {},
   "outputs": [],
   "source": []
  },
  {
   "cell_type": "code",
   "execution_count": 11,
   "metadata": {},
   "outputs": [
    {
     "name": "stderr",
     "output_type": "stream",
     "text": [
      "<ipython-input-11-d506786f3129>:6: SettingWithCopyWarning: \n",
      "A value is trying to be set on a copy of a slice from a DataFrame.\n",
      "Try using .loc[row_indexer,col_indexer] = value instead\n",
      "\n",
      "See the caveats in the documentation: https://pandas.pydata.org/pandas-docs/stable/user_guide/indexing.html#returning-a-view-versus-a-copy\n",
      "  t['Status']=t1\n"
     ]
    }
   ],
   "source": [
    "z=dtset[dtset['action']=='searchResultPage'].groupby(['date'],as_index='False').action.count()\n",
    "y=dtset[dtset['action']=='visitPage'].groupby(['date'],as_index='False').action.count()\n",
    "Ans1A=pd.concat([z,y],axis=1,keys=['No of SRP','No of Interest'])\n",
    "t=dtset[dtset['action']!='checkin']\n",
    "t1=t.apply(lambda x: change(x['action']), axis=1)\n",
    "t['Status']=t1\n",
    "t1=t.groupby(by=['date','session_id']).Status.rolling(2).apply(lambda x: jez(x), raw=True).fillna(0)\n",
    "t2=t1.groupby(['date']).sum()\n",
    "Ans1A['Real no of Interests']=t2.values\n",
    "Ans1A['CThru rate']=Ans1A['Real no of Interests']/Ans1A['No of SRP']\n",
    "\n",
    "\n",
    "z=dtset[dtset['action']=='searchResultPage'].groupby(by=['group']).action.count()\n",
    "y=dtset[dtset['action']=='visitPage'].groupby(by=['group']).action.count()\n",
    "Ans1B=pd.concat([z,y],axis=1,keys=['No of SRP','No of Interest'])"
   ]
  },
  {
   "cell_type": "markdown",
   "metadata": {},
   "source": [
    "Date wise clickthrough rates"
   ]
  },
  {
   "cell_type": "code",
   "execution_count": 12,
   "metadata": {},
   "outputs": [
    {
     "data": {
      "text/html": [
       "<div>\n",
       "<style scoped>\n",
       "    .dataframe tbody tr th:only-of-type {\n",
       "        vertical-align: middle;\n",
       "    }\n",
       "\n",
       "    .dataframe tbody tr th {\n",
       "        vertical-align: top;\n",
       "    }\n",
       "\n",
       "    .dataframe thead th {\n",
       "        text-align: right;\n",
       "    }\n",
       "</style>\n",
       "<table border=\"1\" class=\"dataframe\">\n",
       "  <thead>\n",
       "    <tr style=\"text-align: right;\">\n",
       "      <th></th>\n",
       "      <th>No of SRP</th>\n",
       "      <th>No of Interest</th>\n",
       "      <th>Real no of Interests</th>\n",
       "      <th>CThru rate</th>\n",
       "    </tr>\n",
       "    <tr>\n",
       "      <th>date</th>\n",
       "      <th></th>\n",
       "      <th></th>\n",
       "      <th></th>\n",
       "      <th></th>\n",
       "    </tr>\n",
       "  </thead>\n",
       "  <tbody>\n",
       "    <tr>\n",
       "      <th>2016-03-01</th>\n",
       "      <td>18374</td>\n",
       "      <td>6654</td>\n",
       "      <td>1446.0</td>\n",
       "      <td>0.078698</td>\n",
       "    </tr>\n",
       "    <tr>\n",
       "      <th>2016-03-02</th>\n",
       "      <td>18902</td>\n",
       "      <td>6692</td>\n",
       "      <td>1502.0</td>\n",
       "      <td>0.079462</td>\n",
       "    </tr>\n",
       "    <tr>\n",
       "      <th>2016-03-03</th>\n",
       "      <td>19159</td>\n",
       "      <td>6574</td>\n",
       "      <td>1686.0</td>\n",
       "      <td>0.088000</td>\n",
       "    </tr>\n",
       "    <tr>\n",
       "      <th>2016-03-04</th>\n",
       "      <td>16675</td>\n",
       "      <td>4294</td>\n",
       "      <td>1468.0</td>\n",
       "      <td>0.088036</td>\n",
       "    </tr>\n",
       "    <tr>\n",
       "      <th>2016-03-05</th>\n",
       "      <td>13204</td>\n",
       "      <td>3323</td>\n",
       "      <td>1056.0</td>\n",
       "      <td>0.079976</td>\n",
       "    </tr>\n",
       "    <tr>\n",
       "      <th>2016-03-06</th>\n",
       "      <td>14612</td>\n",
       "      <td>3758</td>\n",
       "      <td>1174.0</td>\n",
       "      <td>0.080345</td>\n",
       "    </tr>\n",
       "    <tr>\n",
       "      <th>2016-03-07</th>\n",
       "      <td>19011</td>\n",
       "      <td>4714</td>\n",
       "      <td>1491.0</td>\n",
       "      <td>0.078428</td>\n",
       "    </tr>\n",
       "    <tr>\n",
       "      <th>2016-03-08</th>\n",
       "      <td>16297</td>\n",
       "      <td>4098</td>\n",
       "      <td>1331.0</td>\n",
       "      <td>0.081671</td>\n",
       "    </tr>\n",
       "  </tbody>\n",
       "</table>\n",
       "</div>"
      ],
      "text/plain": [
       "            No of SRP  No of Interest  Real no of Interests  CThru rate\n",
       "date                                                                   \n",
       "2016-03-01      18374            6654                1446.0    0.078698\n",
       "2016-03-02      18902            6692                1502.0    0.079462\n",
       "2016-03-03      19159            6574                1686.0    0.088000\n",
       "2016-03-04      16675            4294                1468.0    0.088036\n",
       "2016-03-05      13204            3323                1056.0    0.079976\n",
       "2016-03-06      14612            3758                1174.0    0.080345\n",
       "2016-03-07      19011            4714                1491.0    0.078428\n",
       "2016-03-08      16297            4098                1331.0    0.081671"
      ]
     },
     "execution_count": 12,
     "metadata": {},
     "output_type": "execute_result"
    }
   ],
   "source": [
    "Ans1A"
   ]
  },
  {
   "cell_type": "code",
   "execution_count": 13,
   "metadata": {},
   "outputs": [
    {
     "data": {
      "text/plain": [
       "<AxesSubplot:xlabel='date', ylabel='CThru rate'>"
      ]
     },
     "execution_count": 13,
     "metadata": {},
     "output_type": "execute_result"
    },
    {
     "data": {
      "image/png": "[encoded data removed]",
      "text/plain": [
       "<Figure size 864x360 with 1 Axes>"
      ]
     },
     "metadata": {
      "needs_background": "light"
     },
     "output_type": "display_data"
    }
   ],
   "source": [
    "plt.figure(figsize=(12,5))\n",
    "sns.barplot(data=Ans1A, x=Ans1A.index, y='CThru rate')"
   ]
  },
  {
   "cell_type": "code",
   "execution_count": 14,
   "metadata": {},
   "outputs": [
    {
     "data": {
      "text/html": [
       "<div>\n",
       "<style scoped>\n",
       "    .dataframe tbody tr th:only-of-type {\n",
       "        vertical-align: middle;\n",
       "    }\n",
       "\n",
       "    .dataframe tbody tr th {\n",
       "        vertical-align: top;\n",
       "    }\n",
       "\n",
       "    .dataframe thead th {\n",
       "        text-align: right;\n",
       "    }\n",
       "</style>\n",
       "<table border=\"1\" class=\"dataframe\">\n",
       "  <thead>\n",
       "    <tr style=\"text-align: right;\">\n",
       "      <th></th>\n",
       "      <th>No of SRP</th>\n",
       "      <th>No of Interest</th>\n",
       "    </tr>\n",
       "    <tr>\n",
       "      <th>group</th>\n",
       "      <th></th>\n",
       "      <th></th>\n",
       "    </tr>\n",
       "  </thead>\n",
       "  <tbody>\n",
       "    <tr>\n",
       "      <th>a</th>\n",
       "      <td>92056</td>\n",
       "      <td>33265</td>\n",
       "    </tr>\n",
       "    <tr>\n",
       "      <th>b</th>\n",
       "      <td>44178</td>\n",
       "      <td>6842</td>\n",
       "    </tr>\n",
       "  </tbody>\n",
       "</table>\n",
       "</div>"
      ],
      "text/plain": [
       "       No of SRP  No of Interest\n",
       "group                           \n",
       "a          92056           33265\n",
       "b          44178            6842"
      ]
     },
     "execution_count": 14,
     "metadata": {},
     "output_type": "execute_result"
    }
   ],
   "source": [
    "Ans1B"
   ]
  },
  {
   "cell_type": "code",
   "execution_count": null,
   "metadata": {},
   "outputs": [],
   "source": []
  },
  {
   "cell_type": "code",
   "execution_count": 15,
   "metadata": {},
   "outputs": [],
   "source": [
    "\n",
    "\n",
    "z=dtset[dtset['action']=='searchResultPage'].groupby(by=['date']).action.count()\n",
    "y=dtset[dtset['n_results']==0].groupby(by=['date']).action.count()\n",
    "Ans3A=pd.concat([z,y],axis=1,keys=['No of SRP','No of zero results'])\n",
    "Ans3A['Zero rate']=Ans3A['No of zero results']/Ans3A['No of SRP']\n"
   ]
  },
  {
   "cell_type": "code",
   "execution_count": 16,
   "metadata": {},
   "outputs": [
    {
     "data": {
      "text/html": [
       "<div>\n",
       "<style scoped>\n",
       "    .dataframe tbody tr th:only-of-type {\n",
       "        vertical-align: middle;\n",
       "    }\n",
       "\n",
       "    .dataframe tbody tr th {\n",
       "        vertical-align: top;\n",
       "    }\n",
       "\n",
       "    .dataframe thead th {\n",
       "        text-align: right;\n",
       "    }\n",
       "</style>\n",
       "<table border=\"1\" class=\"dataframe\">\n",
       "  <thead>\n",
       "    <tr style=\"text-align: right;\">\n",
       "      <th></th>\n",
       "      <th>No of SRP</th>\n",
       "      <th>No of zero results</th>\n",
       "      <th>Zero rate</th>\n",
       "    </tr>\n",
       "    <tr>\n",
       "      <th>date</th>\n",
       "      <th></th>\n",
       "      <th></th>\n",
       "      <th></th>\n",
       "    </tr>\n",
       "  </thead>\n",
       "  <tbody>\n",
       "    <tr>\n",
       "      <th>2016-03-01</th>\n",
       "      <td>18374</td>\n",
       "      <td>3447</td>\n",
       "      <td>0.187602</td>\n",
       "    </tr>\n",
       "    <tr>\n",
       "      <th>2016-03-02</th>\n",
       "      <td>18902</td>\n",
       "      <td>3589</td>\n",
       "      <td>0.189874</td>\n",
       "    </tr>\n",
       "    <tr>\n",
       "      <th>2016-03-03</th>\n",
       "      <td>19159</td>\n",
       "      <td>3443</td>\n",
       "      <td>0.179707</td>\n",
       "    </tr>\n",
       "    <tr>\n",
       "      <th>2016-03-04</th>\n",
       "      <td>16675</td>\n",
       "      <td>3015</td>\n",
       "      <td>0.180810</td>\n",
       "    </tr>\n",
       "    <tr>\n",
       "      <th>2016-03-05</th>\n",
       "      <td>13204</td>\n",
       "      <td>2442</td>\n",
       "      <td>0.184944</td>\n",
       "    </tr>\n",
       "    <tr>\n",
       "      <th>2016-03-06</th>\n",
       "      <td>14612</td>\n",
       "      <td>2574</td>\n",
       "      <td>0.176157</td>\n",
       "    </tr>\n",
       "    <tr>\n",
       "      <th>2016-03-07</th>\n",
       "      <td>19011</td>\n",
       "      <td>3460</td>\n",
       "      <td>0.182000</td>\n",
       "    </tr>\n",
       "    <tr>\n",
       "      <th>2016-03-08</th>\n",
       "      <td>16297</td>\n",
       "      <td>3157</td>\n",
       "      <td>0.193717</td>\n",
       "    </tr>\n",
       "  </tbody>\n",
       "</table>\n",
       "</div>"
      ],
      "text/plain": [
       "            No of SRP  No of zero results  Zero rate\n",
       "date                                                \n",
       "2016-03-01      18374                3447   0.187602\n",
       "2016-03-02      18902                3589   0.189874\n",
       "2016-03-03      19159                3443   0.179707\n",
       "2016-03-04      16675                3015   0.180810\n",
       "2016-03-05      13204                2442   0.184944\n",
       "2016-03-06      14612                2574   0.176157\n",
       "2016-03-07      19011                3460   0.182000\n",
       "2016-03-08      16297                3157   0.193717"
      ]
     },
     "execution_count": 16,
     "metadata": {},
     "output_type": "execute_result"
    }
   ],
   "source": [
    "Ans3A"
   ]
  },
  {
   "cell_type": "code",
   "execution_count": 18,
   "metadata": {},
   "outputs": [
    {
     "data": {
      "text/html": [
       "<div>\n",
       "<style scoped>\n",
       "    .dataframe tbody tr th:only-of-type {\n",
       "        vertical-align: middle;\n",
       "    }\n",
       "\n",
       "    .dataframe tbody tr th {\n",
       "        vertical-align: top;\n",
       "    }\n",
       "\n",
       "    .dataframe thead th {\n",
       "        text-align: right;\n",
       "    }\n",
       "</style>\n",
       "<table border=\"1\" class=\"dataframe\">\n",
       "  <thead>\n",
       "    <tr style=\"text-align: right;\">\n",
       "      <th></th>\n",
       "      <th>No of SRP</th>\n",
       "      <th>No of zero results</th>\n",
       "      <th>Zero rate</th>\n",
       "    </tr>\n",
       "    <tr>\n",
       "      <th>group</th>\n",
       "      <th></th>\n",
       "      <th></th>\n",
       "      <th></th>\n",
       "    </tr>\n",
       "  </thead>\n",
       "  <tbody>\n",
       "    <tr>\n",
       "      <th>a</th>\n",
       "      <td>92056</td>\n",
       "      <td>16902</td>\n",
       "      <td>0.183606</td>\n",
       "    </tr>\n",
       "    <tr>\n",
       "      <th>b</th>\n",
       "      <td>44178</td>\n",
       "      <td>8225</td>\n",
       "      <td>0.186179</td>\n",
       "    </tr>\n",
       "  </tbody>\n",
       "</table>\n",
       "</div>"
      ],
      "text/plain": [
       "       No of SRP  No of zero results  Zero rate\n",
       "group                                          \n",
       "a          92056               16902   0.183606\n",
       "b          44178                8225   0.186179"
      ]
     },
     "execution_count": 18,
     "metadata": {},
     "output_type": "execute_result"
    }
   ],
   "source": [
    "\n",
    "z=dtset[dtset['action']=='searchResultPage'].groupby(by=['group']).action.count()\n",
    "y=dtset[dtset['n_results']==0].groupby(by=['group']).action.count()\n",
    "Ans3B=pd.concat([z,y],axis=1,keys=['No of SRP','No of zero results'])\n",
    "Ans3B['Zero rate']=Ans3B['No of zero results']/Ans3B['No of SRP']\n",
    "\n",
    "Ans3B\n"
   ]
  },
  {
   "cell_type": "code",
   "execution_count": 19,
   "metadata": {},
   "outputs": [
    {
     "data": {
      "text/plain": [
       "date\n",
       "2016-03-01    1.0\n",
       "2016-03-02    1.0\n",
       "2016-03-03    1.0\n",
       "2016-03-04    1.0\n",
       "2016-03-05    1.0\n",
       "2016-03-06    1.0\n",
       "2016-03-07    1.0\n",
       "2016-03-08    1.0\n",
       "Name: result_position, dtype: float64"
      ]
     },
     "execution_count": 19,
     "metadata": {},
     "output_type": "execute_result"
    }
   ],
   "source": [
    "dtset=dtset.sort_values(by=['session_id','timestamp'])\n",
    "z=dtset[dtset['action']=='visitPage'].groupby(by=['date','session_id']).result_position.first()\n",
    "z=pd.DataFrame(z)\n",
    "z=pd.DataFrame(z.values,index=z.index.droplevel(1),columns=['result_position'])\n",
    "Ans2A=z.groupby(by=['date']).result_position.agg(pd.Series.mode)\n",
    "\n",
    "Ans2A\n"
   ]
  },
  {
   "cell_type": "code",
   "execution_count": 20,
   "metadata": {},
   "outputs": [
    {
     "data": {
      "text/plain": [
       "group\n",
       "a    1.0\n",
       "b    1.0\n",
       "Name: result_position, dtype: float64"
      ]
     },
     "execution_count": 20,
     "metadata": {},
     "output_type": "execute_result"
    }
   ],
   "source": [
    "z=dtset[dtset['action']=='visitPage'].groupby(by=['group','session_id']).result_position.first()\n",
    "z=pd.DataFrame(z)\n",
    "z=pd.DataFrame(z.values,index=z.index.droplevel(1),columns=['result_position'])\n",
    "Ans2B=z.groupby(by=['group']).result_position.agg(pd.Series.mode)\n",
    "\n",
    "Ans2B"
   ]
  },
  {
   "cell_type": "code",
   "execution_count": 21,
   "metadata": {},
   "outputs": [
    {
     "name": "stdout",
     "output_type": "stream",
     "text": [
      "8414.65\n"
     ]
    }
   ],
   "source": [
    "\n",
    "dtset=dtset.sort_values(by=['session_id','timestamp'])\n",
    "z=dtset.groupby(by='session_id',as_index='False').timestamp.min()\n",
    "y=dtset.groupby(by='session_id',as_index='False').timestamp.max()\n",
    "z1=pd.concat([z,y],axis=1,keys=['starttime','stoptime'])\n",
    "z1['starttime']=pd.to_datetime(z1['starttime'], format='%Y%m%d%H%M%S')\n",
    "z1['stoptime']=pd.to_datetime(z1['stoptime'], format='%Y%m%d%H%M%S')\n",
    "z1['timeelapsed']=(z1['stoptime']-z1['starttime'])/pd.Timedelta(minutes=1)\n",
    "y=dtset[dtset['action']=='searchResultPage'].groupby(by='session_id',as_index='False').action.count()\n",
    "z1=pd.concat([z1,y],axis=1)\n",
    "z1['action']=z1['action'].fillna(0)\n",
    "y=dtset[dtset['action']=='searchResultPage'].groupby(by='session_id',as_index='False').n_results.sum()\n",
    "z1=pd.concat([z1,y],axis=1)\n",
    "z1['n_results']=z1['n_results'].fillna(0)\n",
    "y=dtset.groupby(by='session_id',as_index='False').group.first()\n",
    "z1=pd.concat([z1,y],axis=1)\n",
    "print(f\"{z1['timeelapsed'].max()}\")"
   ]
  },
  {
   "cell_type": "code",
   "execution_count": null,
   "metadata": {},
   "outputs": [],
   "source": []
  }
 ],
 "metadata": {
  "kernelspec": {
   "display_name": "Python 3",
   "language": "python",
   "name": "python3"
  },
  "language_info": {
   "codemirror_mode": {
    "name": "ipython",
    "version": 3
   },
   "file_extension": ".py",
   "mimetype": "text/x-python",
   "name": "python",
   "nbconvert_exporter": "python",
   "pygments_lexer": "ipython3",
   "version": "3.8.5"
  }
 },
 "nbformat": 4,
 "nbformat_minor": 4
}
